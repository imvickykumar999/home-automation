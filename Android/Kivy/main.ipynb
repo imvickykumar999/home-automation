{
 "cells": [
  {
   "cell_type": "code",
   "execution_count": 1,
   "metadata": {
    "scrolled": true
   },
   "outputs": [
    {
     "name": "stderr",
     "output_type": "stream",
     "text": [
      "[INFO   ] [Logger      ] Record log in C:\\Users\\Vicky\\.kivy\\logs\\kivy_21-05-05_8.txt\n",
      "[INFO   ] [Kivy        ] v2.0.0\n",
      "[INFO   ] [Kivy        ] Installed at \"C:\\Users\\Vicky\\anaconda3\\lib\\site-packages\\kivy\\__init__.py\"\n",
      "[INFO   ] [Python      ] v3.8.3 (default, Jul  2 2020, 17:30:36) [MSC v.1916 64 bit (AMD64)]\n",
      "[INFO   ] [Python      ] Interpreter at \"C:\\Users\\Vicky\\anaconda3\\python.exe\"\n",
      "[INFO   ] [Factory     ] 186 symbols loaded\n",
      "[INFO   ] [Image       ] Providers: img_tex, img_dds, img_sdl2, img_pil (img_ffpyplayer ignored)\n",
      "[INFO   ] [Text        ] Provider: sdl2\n"
     ]
    },
    {
     "name": "stdout",
     "output_type": "stream",
     "text": [
      "\n",
      "Welcome to my website ;)  https://imvickykumar999.herokuapp.com/iotcar\n",
      "\n",
      "Use help(module name) function to know available functions in it.\n"
     ]
    },
    {
     "name": "stderr",
     "output_type": "stream",
     "text": [
      "[INFO   ] [Window      ] Provider: sdl2\n"
     ]
    },
    {
     "name": "stdout",
     "output_type": "stream",
     "text": [
      "{'A': {'B': {'C': {'Switch': 1}}}, 'esp32': {'switch': {'fan': {'Name': 'Fan', 'Switch': 'OFF'}, 'led': {'Name': 'LED', 'Value': 1}}}}\n"
     ]
    },
    {
     "name": "stderr",
     "output_type": "stream",
     "text": [
      "[INFO   ] [GL          ] Using the \"OpenGL\" graphics system\n",
      "[INFO   ] [GL          ] GLEW initialization succeeded\n",
      "[INFO   ] [GL          ] Backend used <glew>\n",
      "[INFO   ] [GL          ] OpenGL version <b'4.6.13596 Compatibility Profile Context 20.10.32 27.20.1032.2'>\n",
      "[INFO   ] [GL          ] OpenGL vendor <b'ATI Technologies Inc.'>\n",
      "[INFO   ] [GL          ] OpenGL renderer <b'AMD Radeon(TM) Vega 8 Graphics'>\n",
      "[INFO   ] [GL          ] OpenGL parsed version: 4, 6\n",
      "[INFO   ] [GL          ] Shading version <b'4.60'>\n",
      "[INFO   ] [GL          ] Texture max size <16384>\n",
      "[INFO   ] [GL          ] Texture max units <32>\n",
      "[INFO   ] [Window      ] auto add sdl2 input provider\n",
      "[INFO   ] [Window      ] virtual keyboard not allowed, single mode, not docked\n",
      "[INFO   ] [Base        ] Start application main loop\n",
      "[INFO   ] [GL          ] NPOT texture support is available\n",
      "[INFO   ] [Base        ] Leaving application in progress...\n"
     ]
    }
   ],
   "source": [
    "# Program to Show how to attach a callback to switch\n",
    "\n",
    "# import kivy module\n",
    "import kivy\n",
    "\n",
    "# base Class of your App inherits from the App class.\n",
    "# app:always refers to the instance of your application\n",
    "from kivy.app import App\n",
    "\n",
    "# this restrict the kivy version i.e\n",
    "# below this kivy version you cannot\n",
    "# use the app or software\n",
    "kivy.require('1.9.0')\n",
    "\n",
    "# The Switch widget is active or inactive\n",
    "# The state transition of a switch is from\n",
    "# either on to off or off to on.\n",
    "from kivy.uix.switch import Switch\n",
    "\n",
    "# The GridLayout arranges children in a matrix.\n",
    "# It takes the available space and\n",
    "# divides it into columns and rows,\n",
    "# then adds widgets to the resulting “cells”.\n",
    "from kivy.uix.gridlayout import GridLayout\n",
    "\n",
    "# The Label widget is for rendering text.\n",
    "from kivy.uix.label import Label\n",
    "\n",
    "# A Gridlayout with a label a switch\n",
    "# A class which contains all stuff about the switch\n",
    "\n",
    "from multivicks.crud import HomeAutomation\n",
    "link = 'https://home-automation-336c0-default-rtdb.firebaseio.com/'\n",
    "obj = HomeAutomation(link) \n",
    "        \n",
    "class SimpleSwitch(GridLayout):\n",
    "\n",
    "    # Defining __init__ constructor\n",
    "    def __init__(self, **kwargs):\n",
    "\n",
    "        # super function can be used to gain access\n",
    "        # to inherited methods from a parent or sibling class\n",
    "        # that has been overwritten in a class object.\n",
    "        super(SimpleSwitch, self).__init__(**kwargs)\n",
    "\n",
    "        # no of coloumns\n",
    "        self.cols = 2\n",
    "\n",
    "        # Adding label to the Switch\n",
    "        self.add_widget(Label(text =\"Switch\"))\n",
    "\n",
    "        # Initially switch is Off i.e active = False\n",
    "        self.settings_sample = Switch(active = False)\n",
    "\n",
    "        # Add widget\n",
    "        self.add_widget(self.settings_sample)\n",
    "\n",
    "        # Arranging a callback to the switch\n",
    "        # using bing function\n",
    "        self.settings_sample.bind(active = switch_callback)\t\n",
    "\n",
    "# Callback for the switch state transition\n",
    "# Defining a Callback function\n",
    "# Contains Two parameter switchObject, switchValue\n",
    "def switch_callback(switchObject, switchValue):\n",
    "\n",
    "    # Switch value are True and False\n",
    "    if(switchValue):\n",
    "        obj.push(1) \n",
    "    else:\n",
    "        obj.push(0) \n",
    "\n",
    "# Defining the App Class\n",
    "class SwitchApp(App):\n",
    "    # define build function\n",
    "    def build(self):\n",
    "        # retuen the switch class\n",
    "        return SimpleSwitch()\n",
    "\n",
    "\n",
    "# Run the kivy app\n",
    "if __name__ == '__main__':\n",
    "    SwitchApp().run()\n"
   ]
  },
  {
   "cell_type": "code",
   "execution_count": 9,
   "metadata": {},
   "outputs": [
    {
     "name": "stdout",
     "output_type": "stream",
     "text": [
      "Hello my name is John\n"
     ]
    }
   ],
   "source": [
    "class Person:\n",
    "    def __init__(self, name, age):\n",
    "        self.name = name\n",
    "        self.age = age\n",
    "\n",
    "    def myfunc(self):\n",
    "        print(\"Hello my name is \" + self.name)\n",
    "\n",
    "p1 = Person(\"John\", 36)\n",
    "p1.myfunc()"
   ]
  },
  {
   "cell_type": "code",
   "execution_count": 19,
   "metadata": {},
   "outputs": [],
   "source": [
    "\n",
    "# pip install imvickykumar999\n",
    "# C:\\Users\\Vicky\\anaconda3\\Lib\\site-packages\\vicksbase\n",
    "\n",
    "class HomeAutomation:\n",
    "    def __init__(self, link):\n",
    "        \n",
    "        try:\n",
    "            from vicksbase import firebase as f\n",
    "            self.link = link\n",
    "            self.firebase_obj = f.FirebaseApplication(self.link, None)\n",
    "            print(self.pull(child = '/')) \n",
    "            print('''\n",
    "from multivicks.crud import HomeAutomation\n",
    "link = 'https://led-blink-wifi-default-rtdb.firebaseio.com/'\n",
    "obj = HomeAutomation(link)\n",
    "\n",
    "f = obj.show() \n",
    "f = obj.pull()\n",
    "f = obj.push(1) \n",
    "f = obj.remove()\n",
    "\n",
    "print(f) \n",
    "            ''')\n",
    "            \n",
    "        except Exception as e:\n",
    "            print(e) \n",
    "            print('pip install --upgrade imvickykumar999')\n",
    "\n",
    "    def show(self):\n",
    "        return self.link\n",
    "\n",
    "    def pull(self, child = 'A/B/C/Switch'):\n",
    "        result = self.firebase_obj.get(f'{child}', None)\n",
    "        return result\n",
    "\n",
    "    def push(self, data = 1, child = 'A/B/C/Switch'):\n",
    "        self.firebase_obj.put('/', child, data)\n",
    "        return self.pull(child = '/') \n",
    "\n",
    "    def remove(self, child = 'A/B/C/led2'):\n",
    "        data = self.firebase_obj.delete('/', child)\n",
    "        return self.pull(child = '/') \n",
    "\n",
    "\n",
    "# link = 'https://led-blink-wifi-default-rtdb.firebaseio.com/'\n",
    "# obj = HomeAutomation(link)\n",
    "\n",
    "# f = obj.show() \n",
    "# f = obj.pull()\n",
    "# f = obj.push(1) \n",
    "# f = obj.remove()\n",
    "\n",
    "# print(f) \n",
    "# input('Press Enter to Exit...') \n"
   ]
  },
  {
   "cell_type": "code",
   "execution_count": 20,
   "metadata": {},
   "outputs": [
    {
     "name": "stdout",
     "output_type": "stream",
     "text": [
      "{'A': {'B': {'C': {'Switch': 0}}}, 'esp32': {'switch': {'fan': {'Name': 'Fan', 'Switch': 'OFF'}, 'led': {'Name': 'LED', 'Value': 1}}}}\n",
      "\n",
      "from multivicks.crud import HomeAutomation\n",
      "link = 'https://led-blink-wifi-default-rtdb.firebaseio.com/'\n",
      "obj = HomeAutomation(link)\n",
      "\n",
      "f = obj.show() \n",
      "f = obj.pull()\n",
      "f = obj.push(1) \n",
      "f = obj.remove()\n",
      "\n",
      "print(f) \n",
      "            \n"
     ]
    },
    {
     "data": {
      "text/plain": [
       "<__main__.HomeAutomation at 0x275f8a102b0>"
      ]
     },
     "execution_count": 20,
     "metadata": {},
     "output_type": "execute_result"
    }
   ],
   "source": [
    "# from multivicks.crud import HomeAutomation\n",
    "link = 'https://home-automation-336c0-default-rtdb.firebaseio.com/'\n",
    "obj = HomeAutomation(link) \n",
    "obj"
   ]
  },
  {
   "cell_type": "code",
   "execution_count": 4,
   "metadata": {
    "scrolled": true
   },
   "outputs": [
    {
     "name": "stdout",
     "output_type": "stream",
     "text": [
      "Help on HomeAutomation in module __main__ object:\n",
      "\n",
      "class HomeAutomation(builtins.object)\n",
      " |  HomeAutomation(link)\n",
      " |  \n",
      " |  Methods defined here:\n",
      " |  \n",
      " |  __init__(self, link)\n",
      " |      Initialize self.  See help(type(self)) for accurate signature.\n",
      " |  \n",
      " |  pull(self, child='A/B/C/Switch')\n",
      " |  \n",
      " |  push(self, data=1, child='A/B/C/Switch')\n",
      " |  \n",
      " |  remove(self, child='A/B/C/led2')\n",
      " |  \n",
      " |  show(self)\n",
      " |  \n",
      " |  ----------------------------------------------------------------------\n",
      " |  Data descriptors defined here:\n",
      " |  \n",
      " |  __dict__\n",
      " |      dictionary for instance variables (if defined)\n",
      " |  \n",
      " |  __weakref__\n",
      " |      list of weak references to the object (if defined)\n",
      "\n"
     ]
    }
   ],
   "source": [
    "help(obj) "
   ]
  },
  {
   "cell_type": "code",
   "execution_count": 5,
   "metadata": {},
   "outputs": [
    {
     "data": {
      "text/plain": [
       "'https://home-automation-336c0-default-rtdb.firebaseio.com/'"
      ]
     },
     "execution_count": 5,
     "metadata": {},
     "output_type": "execute_result"
    }
   ],
   "source": [
    "obj.show() "
   ]
  },
  {
   "cell_type": "code",
   "execution_count": 12,
   "metadata": {},
   "outputs": [
    {
     "data": {
      "text/plain": [
       "{'A': {'B': {'C': {'Switch': 0}}},\n",
       " 'esp32': {'switch': {'fan': {'Name': 'Fan', 'Switch': 'OFF'},\n",
       "   'led': {'Name': 'LED', 'Value': 1}}}}"
      ]
     },
     "execution_count": 12,
     "metadata": {},
     "output_type": "execute_result"
    }
   ],
   "source": [
    "obj.push(0) "
   ]
  },
  {
   "cell_type": "code",
   "execution_count": 13,
   "metadata": {},
   "outputs": [
    {
     "data": {
      "text/plain": [
       "{'A': {'B': {'C': {'Switch': 0}}},\n",
       " 'esp32': {'switch': {'fan': {'Name': 'Fan', 'Switch': 'OFF'},\n",
       "   'led': {'Name': 'LED', 'Value': 1}}}}"
      ]
     },
     "execution_count": 13,
     "metadata": {},
     "output_type": "execute_result"
    }
   ],
   "source": [
    "obj.pull('/') "
   ]
  },
  {
   "cell_type": "code",
   "execution_count": 14,
   "metadata": {},
   "outputs": [
    {
     "data": {
      "text/plain": [
       "0"
      ]
     },
     "execution_count": 14,
     "metadata": {},
     "output_type": "execute_result"
    }
   ],
   "source": [
    "obj.pull() "
   ]
  },
  {
   "cell_type": "code",
   "execution_count": 8,
   "metadata": {},
   "outputs": [
    {
     "data": {
      "text/plain": [
       "1"
      ]
     },
     "execution_count": 8,
     "metadata": {},
     "output_type": "execute_result"
    }
   ],
   "source": [
    "obj.pull('esp32/switch/led/Value')"
   ]
  },
  {
   "cell_type": "code",
   "execution_count": 9,
   "metadata": {},
   "outputs": [
    {
     "data": {
      "text/plain": [
       "{'A': {'B': {'C': {'Switch': 1}}},\n",
       " 'esp32': {'switch': {'fan': {'Name': 'Fan', 'Switch': 'OFF'},\n",
       "   'led': {'Name': 'LED', 'Value': 1}}}}"
      ]
     },
     "execution_count": 9,
     "metadata": {},
     "output_type": "execute_result"
    }
   ],
   "source": [
    "obj.push(1) "
   ]
  },
  {
   "cell_type": "code",
   "execution_count": 10,
   "metadata": {},
   "outputs": [
    {
     "data": {
      "text/plain": [
       "{'A': {'B': {'C': {'Switch': 1}}},\n",
       " 'esp32': {'switch': {'fan': {'Name': 'Fan', 'Switch': 'OFF'},\n",
       "   'led': {'Name': 'LED', 'Value': 1}}}}"
      ]
     },
     "execution_count": 10,
     "metadata": {},
     "output_type": "execute_result"
    }
   ],
   "source": [
    "obj.remove('esp32/switch/led/Switch')"
   ]
  },
  {
   "cell_type": "code",
   "execution_count": null,
   "metadata": {},
   "outputs": [],
   "source": []
  }
 ],
 "metadata": {
  "kernelspec": {
   "display_name": "Python 3",
   "language": "python",
   "name": "python3"
  },
  "language_info": {
   "codemirror_mode": {
    "name": "ipython",
    "version": 3
   },
   "file_extension": ".py",
   "mimetype": "text/x-python",
   "name": "python",
   "nbconvert_exporter": "python",
   "pygments_lexer": "ipython3",
   "version": "3.8.3"
  }
 },
 "nbformat": 4,
 "nbformat_minor": 4
}
